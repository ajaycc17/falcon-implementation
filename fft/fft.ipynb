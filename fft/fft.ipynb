{
 "cells": [
  {
   "cell_type": "code",
   "execution_count": 9,
   "metadata": {},
   "outputs": [],
   "source": [
    "import cmath"
   ]
  },
  {
   "cell_type": "code",
   "execution_count": 18,
   "metadata": {},
   "outputs": [],
   "source": [
    "c1 = [2, 3, 5, 0, 0, 0, 0, 0]\n",
    "c2 = [4, 3, 6, 9, 0, 0, 0, 0]\n",
    "\n",
    "n1 = len(c1)\n",
    "n2 = len(c2)"
   ]
  },
  {
   "cell_type": "code",
   "execution_count": 19,
   "metadata": {},
   "outputs": [],
   "source": [
    "def fft(cf, invert):\n",
    "    degree = len(cf)\n",
    "    if degree == 1:\n",
    "        return cf\n",
    "    wn = cmath.exp(2j * cmath.pi / degree)\n",
    "    if invert:\n",
    "        wn = 1 / wn\n",
    "    w = 1\n",
    "\n",
    "    cf0 = [cf[i] for i in range(0, degree, 2)]\n",
    "    cf1 = [cf[i] for i in range(1, degree, 2)]\n",
    "    y0 = fft(cf0, invert)\n",
    "    y1 = fft(cf1, invert)\n",
    "    y = [0] * degree\n",
    "    for k in range(degree // 2):\n",
    "        y[k] = y0[k] + w * y1[k]\n",
    "        y[k + degree // 2] = y0[k] - w * y1[k]\n",
    "        w *= wn\n",
    "        if invert:\n",
    "            y[k] /= 2\n",
    "            y[k + degree // 2] /= 2\n",
    "    return y"
   ]
  },
  {
   "cell_type": "code",
   "execution_count": 20,
   "metadata": {},
   "outputs": [],
   "source": [
    "dft1 = fft(c1, False)\n",
    "dft2 = fft(c2, False)"
   ]
  },
  {
   "cell_type": "code",
   "execution_count": 21,
   "metadata": {},
   "outputs": [
    {
     "data": {
      "text/plain": [
       "[10,\n",
       " (4.121320343559644+7.121320343559643j),\n",
       " (-3+3.000000000000001j),\n",
       " (-0.12132034355964305-2.878679656440357j),\n",
       " 4,\n",
       " (-0.12132034355964239+2.878679656440357j),\n",
       " (-3-3.000000000000001j),\n",
       " (4.121320343559643-7.121320343559643j)]"
      ]
     },
     "execution_count": 21,
     "metadata": {},
     "output_type": "execute_result"
    }
   ],
   "source": [
    "dft1"
   ]
  },
  {
   "cell_type": "code",
   "execution_count": 22,
   "metadata": {},
   "outputs": [
    {
     "data": {
      "text/plain": [
       "[22,\n",
       " (-0.24264068711928566+14.485281374238571j),\n",
       " (-2-6.000000000000002j),\n",
       " (8.242640687119286+2.4852813742385713j),\n",
       " -2,\n",
       " (8.242640687119286-2.4852813742385713j),\n",
       " (-2+6.000000000000002j),\n",
       " (-0.242640687119287-14.485281374238571j)]"
      ]
     },
     "execution_count": 22,
     "metadata": {},
     "output_type": "execute_result"
    }
   ],
   "source": [
    "dft2"
   ]
  },
  {
   "cell_type": "code",
   "execution_count": 23,
   "metadata": {},
   "outputs": [],
   "source": [
    "invDFT = fft(dft1, True)"
   ]
  },
  {
   "cell_type": "code",
   "execution_count": 24,
   "metadata": {},
   "outputs": [
    {
     "data": {
      "text/plain": [
       "[(2+0j),\n",
       " (3+4.592425496802576e-17j),\n",
       " (5-2.2204460492503126e-16j),\n",
       " (-2.220446049250313e-16-4.592425496802576e-17j),\n",
       " (-2.220446049250313e-16+0j),\n",
       " (2.220446049250313e-16+4.592425496802576e-17j),\n",
       " (4.440892098500626e-16+2.2204460492503126e-16j),\n",
       " (-2.220446049250313e-16-4.592425496802576e-17j)]"
      ]
     },
     "execution_count": 24,
     "metadata": {},
     "output_type": "execute_result"
    }
   ],
   "source": [
    "invDFT"
   ]
  },
  {
   "cell_type": "code",
   "execution_count": 26,
   "metadata": {},
   "outputs": [
    {
     "data": {
      "text/plain": [
       "[(7.9999999999999964+1.7763568394002505e-15j),\n",
       " (18+2.848232278972479e-15j),\n",
       " (40.99999999999999-3.5527136788005e-15j),\n",
       " (51-3.736410698672604e-15j),\n",
       " (57-1.7763568394002505e-15j),\n",
       " (45-2.4808382392282726e-15j),\n",
       " 3.5527136788005e-15j,\n",
       " (3.552713678800501e-15+3.369016658928398e-15j)]"
      ]
     },
     "execution_count": 26,
     "metadata": {},
     "output_type": "execute_result"
    }
   ],
   "source": [
    "prod = [dft1[i] * dft2[i] for i in range(len(dft1))]\n",
    "prod = fft(prod, True)\n",
    "prod"
   ]
  }
 ],
 "metadata": {
  "kernelspec": {
   "display_name": "Python 3",
   "language": "python",
   "name": "python3"
  },
  "language_info": {
   "codemirror_mode": {
    "name": "ipython",
    "version": 3
   },
   "file_extension": ".py",
   "mimetype": "text/x-python",
   "name": "python",
   "nbconvert_exporter": "python",
   "pygments_lexer": "ipython3",
   "version": "3.12.1"
  }
 },
 "nbformat": 4,
 "nbformat_minor": 2
}
